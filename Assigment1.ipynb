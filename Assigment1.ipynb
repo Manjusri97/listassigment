{
  "nbformat": 4,
  "nbformat_minor": 0,
  "metadata": {
    "colab": {
      "provenance": []
    },
    "kernelspec": {
      "name": "python3",
      "display_name": "Python 3"
    },
    "language_info": {
      "name": "python"
    }
  },
  "cells": [
    {
      "cell_type": "code",
      "execution_count": 1,
      "metadata": {
        "colab": {
          "base_uri": "https://localhost:8080/"
        },
        "id": "aFhQZiXpA9AR",
        "outputId": "e633a944-81ea-4fbd-a6ee-08595b360520"
      },
      "outputs": [
        {
          "output_type": "stream",
          "name": "stdout",
          "text": [
            "[1, 4, 9, 16]\n"
          ]
        }
      ],
      "source": [
        "list1=[1,2,3,4]\n",
        "l2=[]\n",
        "for i in list1:\n",
        "  l2.append(i*i)\n",
        "print(l2)"
      ]
    }
  ]
}